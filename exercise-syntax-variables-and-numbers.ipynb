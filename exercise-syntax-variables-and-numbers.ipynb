{
 "cells": [
  {
   "cell_type": "markdown",
   "id": "4eda1fa6",
   "metadata": {
    "papermill": {
     "duration": 0.009269,
     "end_time": "2024-09-06T18:06:30.174975",
     "exception": false,
     "start_time": "2024-09-06T18:06:30.165706",
     "status": "completed"
    },
    "tags": []
   },
   "source": [
    "**This notebook is an exercise in the [Python](https://www.kaggle.com/learn/python) course.  You can reference the tutorial at [this link](https://www.kaggle.com/colinmorris/hello-python).**\n",
    "\n",
    "---\n"
   ]
  },
  {
   "cell_type": "markdown",
   "id": "25da7a11",
   "metadata": {
    "papermill": {
     "duration": 0.008725,
     "end_time": "2024-09-06T18:06:30.193001",
     "exception": false,
     "start_time": "2024-09-06T18:06:30.184276",
     "status": "completed"
    },
    "tags": []
   },
   "source": [
    "Welcome to your first set of Python coding problems.  If this is your first time using Kaggle Notebooks, welcome! \n",
    "\n",
    "Notebooks are composed of blocks (called \"cells\") of text and code. Each of these is editable, though you'll mainly be editing the code cells to answer some questions.\n",
    "\n",
    "To get started, try running the code cell below (by pressing the ► button, or clicking on the cell and pressing ctrl+enter on your keyboard)."
   ]
  },
  {
   "cell_type": "code",
   "execution_count": 1,
   "id": "d86ed225",
   "metadata": {
    "execution": {
     "iopub.execute_input": "2024-09-06T18:06:30.212816Z",
     "iopub.status.busy": "2024-09-06T18:06:30.212163Z",
     "iopub.status.idle": "2024-09-06T18:06:30.226248Z",
     "shell.execute_reply": "2024-09-06T18:06:30.224794Z"
    },
    "papermill": {
     "duration": 0.027214,
     "end_time": "2024-09-06T18:06:30.228891",
     "exception": false,
     "start_time": "2024-09-06T18:06:30.201677",
     "status": "completed"
    },
    "tags": []
   },
   "outputs": [
    {
     "name": "stdout",
     "output_type": "stream",
     "text": [
      "You've successfully run some Python code\n",
      "Congratulations!\n"
     ]
    }
   ],
   "source": [
    "print(\"You've successfully run some Python code\")\n",
    "print(\"Congratulations!\")"
   ]
  },
  {
   "cell_type": "markdown",
   "id": "a99c6469",
   "metadata": {
    "papermill": {
     "duration": 0.008778,
     "end_time": "2024-09-06T18:06:30.246754",
     "exception": false,
     "start_time": "2024-09-06T18:06:30.237976",
     "status": "completed"
    },
    "tags": []
   },
   "source": [
    "Try adding another line of code in the cell above and re-running it. \n",
    "\n",
    "Now let's get a little fancier:  Add a new code cell by clicking on an existing code cell, hitting the escape key, and then hitting the `a` or `b` key.  The `a` key will add a cell above the current cell, and `b` adds a cell below.\n",
    "\n",
    "Great! Now you know how to use Notebooks.\n",
    "\n",
    "Each hands-on exercise starts by setting up our feedback and code checking mechanism. Run the code cell below to do that. Then you'll be ready to move on to question 0."
   ]
  },
  {
   "cell_type": "code",
   "execution_count": 2,
   "id": "4f26516c",
   "metadata": {
    "_kg_hide-input": true,
    "_kg_hide-output": true,
    "execution": {
     "iopub.execute_input": "2024-09-06T18:06:30.266282Z",
     "iopub.status.busy": "2024-09-06T18:06:30.265822Z",
     "iopub.status.idle": "2024-09-06T18:06:30.770085Z",
     "shell.execute_reply": "2024-09-06T18:06:30.768509Z"
    },
    "papermill": {
     "duration": 0.517258,
     "end_time": "2024-09-06T18:06:30.772842",
     "exception": false,
     "start_time": "2024-09-06T18:06:30.255584",
     "status": "completed"
    },
    "tags": []
   },
   "outputs": [
    {
     "name": "stdout",
     "output_type": "stream",
     "text": [
      "Setup complete! You're ready to start question 0.\n"
     ]
    }
   ],
   "source": [
    "from learntools.core import binder; binder.bind(globals())\n",
    "from learntools.python.ex1 import *\n",
    "print(\"Setup complete! You're ready to start question 0.\")"
   ]
  },
  {
   "cell_type": "markdown",
   "id": "b22d9a6d",
   "metadata": {
    "papermill": {
     "duration": 0.008371,
     "end_time": "2024-09-06T18:06:30.790216",
     "exception": false,
     "start_time": "2024-09-06T18:06:30.781845",
     "status": "completed"
    },
    "tags": []
   },
   "source": [
    "# 0.\n",
    "\n",
    "*This is a silly question intended as an introduction to the format we use for hands-on exercises throughout all Kaggle courses.*\n",
    "\n",
    "**What is your favorite color? **\n",
    "\n",
    "To complete this question, create a variable called `color` in the cell below with an appropriate value. The function call `q0.check()` (which we've already provided in the cell below) will check your answer."
   ]
  },
  {
   "cell_type": "code",
   "execution_count": 3,
   "id": "bcd4a0ee",
   "metadata": {
    "execution": {
     "iopub.execute_input": "2024-09-06T18:06:30.810015Z",
     "iopub.status.busy": "2024-09-06T18:06:30.809452Z",
     "iopub.status.idle": "2024-09-06T18:06:30.820925Z",
     "shell.execute_reply": "2024-09-06T18:06:30.819761Z"
    },
    "papermill": {
     "duration": 0.024072,
     "end_time": "2024-09-06T18:06:30.823362",
     "exception": false,
     "start_time": "2024-09-06T18:06:30.799290",
     "status": "completed"
    },
    "tags": []
   },
   "outputs": [
    {
     "data": {
      "application/javascript": [
       "parent.postMessage({\"jupyterEvent\": \"custom.exercise_interaction\", \"data\": {\"outcomeType\": 1, \"valueTowardsCompletion\": 0.25, \"interactionType\": 1, \"questionType\": 2, \"questionId\": \"0_ExerciseFormatTutorial\", \"learnToolsVersion\": \"0.3.4\", \"failureMessage\": \"\", \"exceptionClass\": \"\", \"trace\": \"\"}}, \"*\")"
      ],
      "text/plain": [
       "<IPython.core.display.Javascript object>"
      ]
     },
     "metadata": {},
     "output_type": "display_data"
    },
    {
     "data": {
      "text/markdown": [
       "<span style=\"color:#33cc33\">Correct:</span> What?! You got it right without needing a hint or anything? Drats. Well hey, you should still continue to the next step to get some practice asking for a hint and checking solutions. (Even though you obviously don't need any help here.)"
      ],
      "text/plain": [
       "Correct: What?! You got it right without needing a hint or anything? Drats. Well hey, you should still continue to the next step to get some practice asking for a hint and checking solutions. (Even though you obviously don't need any help here.)"
      ]
     },
     "metadata": {},
     "output_type": "display_data"
    }
   ],
   "source": [
    "color = \"blue\"\n",
    "q0.check()"
   ]
  },
  {
   "cell_type": "markdown",
   "id": "91d9ac0b",
   "metadata": {
    "papermill": {
     "duration": 0.008985,
     "end_time": "2024-09-06T18:06:30.841479",
     "exception": false,
     "start_time": "2024-09-06T18:06:30.832494",
     "status": "completed"
    },
    "tags": []
   },
   "source": [
    "Didn't get the right answer? How do you not even know your own favorite color?!\n",
    "\n",
    "Delete the `#` in the line below to make one of the lines run. You can choose between getting a hint or the full answer by choosing which line to remove the `#` from. \n",
    "\n",
    "Removing the `#` is called uncommenting, because it changes that line from a \"comment\" which Python doesn't run to code, which Python does run."
   ]
  },
  {
   "cell_type": "code",
   "execution_count": 4,
   "id": "9bcbd42f",
   "metadata": {
    "execution": {
     "iopub.execute_input": "2024-09-06T18:06:30.861753Z",
     "iopub.status.busy": "2024-09-06T18:06:30.861289Z",
     "iopub.status.idle": "2024-09-06T18:06:30.866595Z",
     "shell.execute_reply": "2024-09-06T18:06:30.865407Z"
    },
    "papermill": {
     "duration": 0.01854,
     "end_time": "2024-09-06T18:06:30.869195",
     "exception": false,
     "start_time": "2024-09-06T18:06:30.850655",
     "status": "completed"
    },
    "tags": []
   },
   "outputs": [],
   "source": [
    "#q0.hint()\n",
    "#q0.solution()"
   ]
  },
  {
   "cell_type": "markdown",
   "id": "b3f2c190",
   "metadata": {
    "papermill": {
     "duration": 0.008858,
     "end_time": "2024-09-06T18:06:30.887261",
     "exception": false,
     "start_time": "2024-09-06T18:06:30.878403",
     "status": "completed"
    },
    "tags": []
   },
   "source": [
    "The upcoming questions work the same way. The only thing that will change are the question numbers. For the next question, you'll call `q1.check()`, `q1.hint()`, `q1.solution()`, for question 2, you'll call `q2.check()`, and so on."
   ]
  },
  {
   "cell_type": "markdown",
   "id": "aebb8039",
   "metadata": {
    "papermill": {
     "duration": 0.008925,
     "end_time": "2024-09-06T18:06:30.905229",
     "exception": false,
     "start_time": "2024-09-06T18:06:30.896304",
     "status": "completed"
    },
    "tags": []
   },
   "source": [
    "<hr/>\n",
    "\n",
    "# 1.\n",
    "\n",
    "Complete the code below. In case it's helpful, here is the table of available arithmetic operations:\n",
    "\n",
    "\n",
    "\n",
    "| Operator     | Name           | Description                                            |\n",
    "|--------------|----------------|--------------------------------------------------------|\n",
    "| ``a + b``    | Addition       | Sum of ``a`` and ``b``                                 |\n",
    "| ``a - b``    | Subtraction    | Difference of ``a`` and ``b``                          |\n",
    "| ``a * b``    | Multiplication | Product of ``a`` and ``b``                             |\n",
    "| ``a / b``    | True division  | Quotient of ``a`` and ``b``                            |\n",
    "| ``a // b``   | Floor division | Quotient of ``a`` and ``b``, removing fractional parts |\n",
    "| ``a % b``    | Modulus        | Integer remainder after division of ``a`` by ``b``     |\n",
    "| ``a ** b``   | Exponentiation | ``a`` raised to the power of ``b``                     |\n",
    "| ``-a``       | Negation       | The negative of ``a``                                  |\n",
    "\n",
    "<span style=\"display:none\"></span>\n"
   ]
  },
  {
   "cell_type": "code",
   "execution_count": 5,
   "id": "da232215",
   "metadata": {
    "execution": {
     "iopub.execute_input": "2024-09-06T18:06:30.925370Z",
     "iopub.status.busy": "2024-09-06T18:06:30.924873Z",
     "iopub.status.idle": "2024-09-06T18:06:30.936555Z",
     "shell.execute_reply": "2024-09-06T18:06:30.935506Z"
    },
    "papermill": {
     "duration": 0.024572,
     "end_time": "2024-09-06T18:06:30.938931",
     "exception": false,
     "start_time": "2024-09-06T18:06:30.914359",
     "status": "completed"
    },
    "tags": []
   },
   "outputs": [
    {
     "data": {
      "application/javascript": [
       "parent.postMessage({\"jupyterEvent\": \"custom.exercise_interaction\", \"data\": {\"outcomeType\": 1, \"valueTowardsCompletion\": 0.25, \"interactionType\": 1, \"questionType\": 1, \"questionId\": \"1_CircleArea\", \"learnToolsVersion\": \"0.3.4\", \"failureMessage\": \"\", \"exceptionClass\": \"\", \"trace\": \"\"}}, \"*\")"
      ],
      "text/plain": [
       "<IPython.core.display.Javascript object>"
      ]
     },
     "metadata": {},
     "output_type": "display_data"
    },
    {
     "data": {
      "text/markdown": [
       "<span style=\"color:#33cc33\">Correct</span>"
      ],
      "text/plain": [
       "Correct"
      ]
     },
     "metadata": {},
     "output_type": "display_data"
    }
   ],
   "source": [
    "pi = 3.14159 # approximate\n",
    "diameter = 3\n",
    "\n",
    "# Create a variable called 'radius' equal to half the diameter\n",
    "radius = diameter / 2\n",
    "\n",
    "# Create a variable called 'area', using the formula for the area of a circle: pi times the radius squared\n",
    "area = pi * radius ** 2\n",
    "\n",
    "# Check your answer\n",
    "q1.check()"
   ]
  },
  {
   "cell_type": "code",
   "execution_count": 6,
   "id": "1e773171",
   "metadata": {
    "execution": {
     "iopub.execute_input": "2024-09-06T18:06:30.960711Z",
     "iopub.status.busy": "2024-09-06T18:06:30.960232Z",
     "iopub.status.idle": "2024-09-06T18:06:30.965646Z",
     "shell.execute_reply": "2024-09-06T18:06:30.964211Z"
    },
    "papermill": {
     "duration": 0.019956,
     "end_time": "2024-09-06T18:06:30.968334",
     "exception": false,
     "start_time": "2024-09-06T18:06:30.948378",
     "status": "completed"
    },
    "tags": []
   },
   "outputs": [],
   "source": [
    "# Uncomment and run the lines below if you need help.\n",
    "#q1.hint()\n",
    "#q1.solution()"
   ]
  },
  {
   "cell_type": "markdown",
   "id": "fb602ab4",
   "metadata": {
    "papermill": {
     "duration": 0.009276,
     "end_time": "2024-09-06T18:06:30.987219",
     "exception": false,
     "start_time": "2024-09-06T18:06:30.977943",
     "status": "completed"
    },
    "tags": []
   },
   "source": [
    "<hr/>\n",
    "\n",
    "# 2.\n",
    "\n",
    "Add code to the following cell to swap variables `a` and `b` (so that `a` refers to the object previously referred to by `b` and vice versa)."
   ]
  },
  {
   "cell_type": "code",
   "execution_count": 7,
   "id": "78185478",
   "metadata": {
    "execution": {
     "iopub.execute_input": "2024-09-06T18:06:31.008970Z",
     "iopub.status.busy": "2024-09-06T18:06:31.007864Z",
     "iopub.status.idle": "2024-09-06T18:06:31.019308Z",
     "shell.execute_reply": "2024-09-06T18:06:31.018100Z"
    },
    "papermill": {
     "duration": 0.024917,
     "end_time": "2024-09-06T18:06:31.021704",
     "exception": false,
     "start_time": "2024-09-06T18:06:30.996787",
     "status": "completed"
    },
    "tags": []
   },
   "outputs": [
    {
     "data": {
      "application/javascript": [
       "parent.postMessage({\"jupyterEvent\": \"custom.exercise_interaction\", \"data\": {\"outcomeType\": 1, \"valueTowardsCompletion\": 0.25, \"interactionType\": 1, \"questionType\": 2, \"questionId\": \"2_VariableSwap\", \"learnToolsVersion\": \"0.3.4\", \"failureMessage\": \"\", \"exceptionClass\": \"\", \"trace\": \"\"}}, \"*\")"
      ],
      "text/plain": [
       "<IPython.core.display.Javascript object>"
      ]
     },
     "metadata": {},
     "output_type": "display_data"
    },
    {
     "data": {
      "text/markdown": [
       "<span style=\"color:#33cc33\">Correct:</span> \n",
       "\n",
       "The most straightforward solution is to use a third variable to temporarily store one of the old values. e.g.:\n",
       "\n",
       "    tmp = a\n",
       "    a = b\n",
       "    b = tmp\n",
       "\n",
       "If you've read lots of Python code, you might have seen the following trick to swap two variables in one line:\n",
       "\n",
       "    a, b = b, a\n",
       "\n",
       "We'll demystify this bit of Python magic later when we talk about *tuples*."
      ],
      "text/plain": [
       "Correct: \n",
       "\n",
       "The most straightforward solution is to use a third variable to temporarily store one of the old values. e.g.:\n",
       "\n",
       "    tmp = a\n",
       "    a = b\n",
       "    b = tmp\n",
       "\n",
       "If you've read lots of Python code, you might have seen the following trick to swap two variables in one line:\n",
       "\n",
       "    a, b = b, a\n",
       "\n",
       "We'll demystify this bit of Python magic later when we talk about *tuples*."
      ]
     },
     "metadata": {},
     "output_type": "display_data"
    }
   ],
   "source": [
    "########### Setup code - don't touch this part ######################\n",
    "# If you're curious, these are examples of lists. We'll talk about \n",
    "# them in depth a few lessons from now. For now, just know that they're\n",
    "# yet another type of Python object, like int or float.\n",
    "a = [1, 2, 3]\n",
    "b = [3, 2, 1]\n",
    "q2.store_original_ids()\n",
    "######################################################################\n",
    "\n",
    "# Your code goes here. Swap the values to which a and b refer.\n",
    "a, b = b, a\n",
    "\n",
    "# If you get stuck, you can always uncomment one or both of the lines in\n",
    "# the next cell for a hint, or to peek at the solution.\n",
    "\n",
    "######################################################################\n",
    "\n",
    "# Check your answer\n",
    "q2.check()"
   ]
  },
  {
   "cell_type": "code",
   "execution_count": 8,
   "id": "50dc6c21",
   "metadata": {
    "execution": {
     "iopub.execute_input": "2024-09-06T18:06:31.043329Z",
     "iopub.status.busy": "2024-09-06T18:06:31.042878Z",
     "iopub.status.idle": "2024-09-06T18:06:31.047814Z",
     "shell.execute_reply": "2024-09-06T18:06:31.046640Z"
    },
    "papermill": {
     "duration": 0.018901,
     "end_time": "2024-09-06T18:06:31.050477",
     "exception": false,
     "start_time": "2024-09-06T18:06:31.031576",
     "status": "completed"
    },
    "tags": []
   },
   "outputs": [],
   "source": [
    "#q2.hint()"
   ]
  },
  {
   "cell_type": "code",
   "execution_count": 9,
   "id": "67a95884",
   "metadata": {
    "execution": {
     "iopub.execute_input": "2024-09-06T18:06:31.072689Z",
     "iopub.status.busy": "2024-09-06T18:06:31.072184Z",
     "iopub.status.idle": "2024-09-06T18:06:31.077447Z",
     "shell.execute_reply": "2024-09-06T18:06:31.076377Z"
    },
    "papermill": {
     "duration": 0.01913,
     "end_time": "2024-09-06T18:06:31.080081",
     "exception": false,
     "start_time": "2024-09-06T18:06:31.060951",
     "status": "completed"
    },
    "tags": []
   },
   "outputs": [],
   "source": [
    "#q2.solution()"
   ]
  },
  {
   "cell_type": "markdown",
   "id": "9ed34067",
   "metadata": {
    "papermill": {
     "duration": 0.010282,
     "end_time": "2024-09-06T18:06:31.100442",
     "exception": false,
     "start_time": "2024-09-06T18:06:31.090160",
     "status": "completed"
    },
    "tags": []
   },
   "source": [
    "<hr/>\n",
    "\n",
    "# 3a.\n",
    "\n",
    "Add parentheses to the following expression so that it evaluates to 1."
   ]
  },
  {
   "cell_type": "code",
   "execution_count": 10,
   "id": "f7b5a1cc",
   "metadata": {
    "execution": {
     "iopub.execute_input": "2024-09-06T18:06:31.122758Z",
     "iopub.status.busy": "2024-09-06T18:06:31.122292Z",
     "iopub.status.idle": "2024-09-06T18:06:31.129421Z",
     "shell.execute_reply": "2024-09-06T18:06:31.128271Z"
    },
    "papermill": {
     "duration": 0.021041,
     "end_time": "2024-09-06T18:06:31.131959",
     "exception": false,
     "start_time": "2024-09-06T18:06:31.110918",
     "status": "completed"
    },
    "tags": []
   },
   "outputs": [
    {
     "data": {
      "text/plain": [
       "4"
      ]
     },
     "execution_count": 10,
     "metadata": {},
     "output_type": "execute_result"
    }
   ],
   "source": [
    "5 - 3 // 2"
   ]
  },
  {
   "cell_type": "code",
   "execution_count": 11,
   "id": "c4dfe83a",
   "metadata": {
    "execution": {
     "iopub.execute_input": "2024-09-06T18:06:31.155014Z",
     "iopub.status.busy": "2024-09-06T18:06:31.154144Z",
     "iopub.status.idle": "2024-09-06T18:06:31.159441Z",
     "shell.execute_reply": "2024-09-06T18:06:31.158098Z"
    },
    "papermill": {
     "duration": 0.019815,
     "end_time": "2024-09-06T18:06:31.162149",
     "exception": false,
     "start_time": "2024-09-06T18:06:31.142334",
     "status": "completed"
    },
    "tags": []
   },
   "outputs": [],
   "source": [
    "#q3.a.hint()"
   ]
  },
  {
   "cell_type": "code",
   "execution_count": 12,
   "id": "5aa0f3ab",
   "metadata": {
    "execution": {
     "iopub.execute_input": "2024-09-06T18:06:31.185565Z",
     "iopub.status.busy": "2024-09-06T18:06:31.185090Z",
     "iopub.status.idle": "2024-09-06T18:06:31.194601Z",
     "shell.execute_reply": "2024-09-06T18:06:31.193474Z"
    },
    "papermill": {
     "duration": 0.024044,
     "end_time": "2024-09-06T18:06:31.197072",
     "exception": false,
     "start_time": "2024-09-06T18:06:31.173028",
     "status": "completed"
    },
    "tags": []
   },
   "outputs": [
    {
     "data": {
      "application/javascript": [
       "parent.postMessage({\"jupyterEvent\": \"custom.exercise_interaction\", \"data\": {\"interactionType\": 3, \"questionType\": 4, \"questionId\": \"3.1_ArithmeticParensEasy\", \"learnToolsVersion\": \"0.3.4\", \"valueTowardsCompletion\": 0.0, \"failureMessage\": \"\", \"exceptionClass\": \"\", \"trace\": \"\", \"outcomeType\": 4}}, \"*\")"
      ],
      "text/plain": [
       "<IPython.core.display.Javascript object>"
      ]
     },
     "metadata": {},
     "output_type": "display_data"
    },
    {
     "data": {
      "text/markdown": [
       "<span style=\"color:#33cc99\">Solution:</span> \n",
       "```python\n",
       "(5 - 3) // 2\n",
       "```"
      ],
      "text/plain": [
       "Solution: \n",
       "```python\n",
       "(5 - 3) // 2\n",
       "```"
      ]
     },
     "metadata": {},
     "output_type": "display_data"
    }
   ],
   "source": [
    "# Check your answer (Run this code cell to receive credit!)\n",
    "q3.a.solution()"
   ]
  },
  {
   "cell_type": "markdown",
   "id": "81a6e4e2",
   "metadata": {
    "papermill": {
     "duration": 0.010175,
     "end_time": "2024-09-06T18:06:31.218013",
     "exception": false,
     "start_time": "2024-09-06T18:06:31.207838",
     "status": "completed"
    },
    "tags": []
   },
   "source": [
    "# 3b.  <span title=\"A bit spicy\" style=\"color: darkgreen \">🌶️</span>\n",
    "\n",
    "<small>Questions, like this one, marked a spicy pepper are a bit harder.</small>\n",
    "\n",
    "Add parentheses to the following expression so that it evaluates to 0."
   ]
  },
  {
   "cell_type": "code",
   "execution_count": 13,
   "id": "b52ba21f",
   "metadata": {
    "execution": {
     "iopub.execute_input": "2024-09-06T18:06:31.242119Z",
     "iopub.status.busy": "2024-09-06T18:06:31.241237Z",
     "iopub.status.idle": "2024-09-06T18:06:31.249331Z",
     "shell.execute_reply": "2024-09-06T18:06:31.248009Z"
    },
    "papermill": {
     "duration": 0.023168,
     "end_time": "2024-09-06T18:06:31.251912",
     "exception": false,
     "start_time": "2024-09-06T18:06:31.228744",
     "status": "completed"
    },
    "tags": []
   },
   "outputs": [
    {
     "data": {
      "text/plain": [
       "2"
      ]
     },
     "execution_count": 13,
     "metadata": {},
     "output_type": "execute_result"
    }
   ],
   "source": [
    "8 - 3 * 2 - 1 + 1"
   ]
  },
  {
   "cell_type": "code",
   "execution_count": 14,
   "id": "cdcee412",
   "metadata": {
    "execution": {
     "iopub.execute_input": "2024-09-06T18:06:31.275688Z",
     "iopub.status.busy": "2024-09-06T18:06:31.275204Z",
     "iopub.status.idle": "2024-09-06T18:06:31.280624Z",
     "shell.execute_reply": "2024-09-06T18:06:31.279343Z"
    },
    "papermill": {
     "duration": 0.020264,
     "end_time": "2024-09-06T18:06:31.283198",
     "exception": false,
     "start_time": "2024-09-06T18:06:31.262934",
     "status": "completed"
    },
    "tags": []
   },
   "outputs": [],
   "source": [
    "#q3.b.hint()"
   ]
  },
  {
   "cell_type": "code",
   "execution_count": 15,
   "id": "0915bb28",
   "metadata": {
    "execution": {
     "iopub.execute_input": "2024-09-06T18:06:31.306793Z",
     "iopub.status.busy": "2024-09-06T18:06:31.306347Z",
     "iopub.status.idle": "2024-09-06T18:06:31.315615Z",
     "shell.execute_reply": "2024-09-06T18:06:31.314523Z"
    },
    "papermill": {
     "duration": 0.024068,
     "end_time": "2024-09-06T18:06:31.318166",
     "exception": false,
     "start_time": "2024-09-06T18:06:31.294098",
     "status": "completed"
    },
    "tags": []
   },
   "outputs": [
    {
     "data": {
      "application/javascript": [
       "parent.postMessage({\"jupyterEvent\": \"custom.exercise_interaction\", \"data\": {\"interactionType\": 3, \"questionType\": 4, \"questionId\": \"3.2_ArithmeticParensHard\", \"learnToolsVersion\": \"0.3.4\", \"valueTowardsCompletion\": 0.0, \"failureMessage\": \"\", \"exceptionClass\": \"\", \"trace\": \"\", \"outcomeType\": 4}}, \"*\")"
      ],
      "text/plain": [
       "<IPython.core.display.Javascript object>"
      ]
     },
     "metadata": {},
     "output_type": "display_data"
    },
    {
     "data": {
      "text/markdown": [
       "<span style=\"color:#33cc99\">Solution:</span> `(8 - 3) * (2 - (1 + 1))` is one solution. There may be others."
      ],
      "text/plain": [
       "Solution: `(8 - 3) * (2 - (1 + 1))` is one solution. There may be others."
      ]
     },
     "metadata": {},
     "output_type": "display_data"
    }
   ],
   "source": [
    "# Check your answer (Run this code cell to receive credit!)\n",
    "q3.b.solution()"
   ]
  },
  {
   "cell_type": "markdown",
   "id": "50548f8f",
   "metadata": {
    "papermill": {
     "duration": 0.010791,
     "end_time": "2024-09-06T18:06:31.340186",
     "exception": false,
     "start_time": "2024-09-06T18:06:31.329395",
     "status": "completed"
    },
    "tags": []
   },
   "source": [
    "<hr/>\n",
    "\n",
    "# 4. \n",
    "Alice, Bob and Carol have agreed to pool their Halloween candy and split it evenly among themselves.\n",
    "For the sake of their friendship, any candies left over will be smashed. For example, if they collectively\n",
    "bring home 91 candies, they'll take 30 each and smash 1.\n",
    "\n",
    "Write an arithmetic expression below to calculate how many candies they must smash for a given haul."
   ]
  },
  {
   "cell_type": "code",
   "execution_count": 16,
   "id": "7d025816",
   "metadata": {
    "execution": {
     "iopub.execute_input": "2024-09-06T18:06:31.364979Z",
     "iopub.status.busy": "2024-09-06T18:06:31.363904Z",
     "iopub.status.idle": "2024-09-06T18:06:31.375177Z",
     "shell.execute_reply": "2024-09-06T18:06:31.373846Z"
    },
    "papermill": {
     "duration": 0.026504,
     "end_time": "2024-09-06T18:06:31.377734",
     "exception": false,
     "start_time": "2024-09-06T18:06:31.351230",
     "status": "completed"
    },
    "tags": []
   },
   "outputs": [
    {
     "data": {
      "application/javascript": [
       "parent.postMessage({\"jupyterEvent\": \"custom.exercise_interaction\", \"data\": {\"outcomeType\": 1, \"valueTowardsCompletion\": 0.25, \"interactionType\": 1, \"questionType\": 1, \"questionId\": \"4_CandySplitting\", \"learnToolsVersion\": \"0.3.4\", \"failureMessage\": \"\", \"exceptionClass\": \"\", \"trace\": \"\"}}, \"*\")"
      ],
      "text/plain": [
       "<IPython.core.display.Javascript object>"
      ]
     },
     "metadata": {},
     "output_type": "display_data"
    },
    {
     "data": {
      "text/markdown": [
       "<span style=\"color:#33cc33\">Correct</span>"
      ],
      "text/plain": [
       "Correct"
      ]
     },
     "metadata": {},
     "output_type": "display_data"
    }
   ],
   "source": [
    "# Variables representing the number of candies collected by alice, bob, and carol\n",
    "alice_candies = 121\n",
    "bob_candies = 77\n",
    "carol_candies = 109\n",
    "\n",
    "# Your code goes here! Replace the right-hand side of this assignment with an expression\n",
    "# involving alice_candies, bob_candies, and carol_candies\n",
    "total_candies = alice_candies + bob_candies + carol_candies\n",
    "to_smash = total_candies % 3\n",
    "\n",
    "# Check your answer\n",
    "q4.check()"
   ]
  },
  {
   "cell_type": "code",
   "execution_count": 17,
   "id": "7a041500",
   "metadata": {
    "execution": {
     "iopub.execute_input": "2024-09-06T18:06:31.403189Z",
     "iopub.status.busy": "2024-09-06T18:06:31.402712Z",
     "iopub.status.idle": "2024-09-06T18:06:31.407833Z",
     "shell.execute_reply": "2024-09-06T18:06:31.406667Z"
    },
    "papermill": {
     "duration": 0.020879,
     "end_time": "2024-09-06T18:06:31.410479",
     "exception": false,
     "start_time": "2024-09-06T18:06:31.389600",
     "status": "completed"
    },
    "tags": []
   },
   "outputs": [],
   "source": [
    "#q4.hint()\n",
    "#q4.solution()"
   ]
  },
  {
   "cell_type": "markdown",
   "id": "b3f87053",
   "metadata": {
    "papermill": {
     "duration": 0.011522,
     "end_time": "2024-09-06T18:06:31.433746",
     "exception": false,
     "start_time": "2024-09-06T18:06:31.422224",
     "status": "completed"
    },
    "tags": []
   },
   "source": [
    "# Keep Going\n",
    "\n",
    "Next up, you'll **[learn to write new functions and understand functions others write](https://www.kaggle.com/colinmorris/functions-and-getting-help)**. This will make you at least 10 times more productive as a Python programmer. "
   ]
  },
  {
   "cell_type": "markdown",
   "id": "92e1f424",
   "metadata": {
    "papermill": {
     "duration": 0.011664,
     "end_time": "2024-09-06T18:06:31.457184",
     "exception": false,
     "start_time": "2024-09-06T18:06:31.445520",
     "status": "completed"
    },
    "tags": []
   },
   "source": [
    "---\n",
    "\n",
    "\n",
    "\n",
    "\n",
    "*Have questions or comments? Visit the [course discussion forum](https://www.kaggle.com/learn/python/discussion) to chat with other learners.*"
   ]
  }
 ],
 "metadata": {
  "kaggle": {
   "accelerator": "none",
   "dataSources": [],
   "isGpuEnabled": false,
   "isInternetEnabled": false,
   "language": "python",
   "sourceType": "notebook"
  },
  "kernelspec": {
   "display_name": "Python 3",
   "language": "python",
   "name": "python3"
  },
  "language_info": {
   "codemirror_mode": {
    "name": "ipython",
    "version": 3
   },
   "file_extension": ".py",
   "mimetype": "text/x-python",
   "name": "python",
   "nbconvert_exporter": "python",
   "pygments_lexer": "ipython3",
   "version": "3.10.14"
  },
  "learntools_metadata": {
   "lesson_index": 0,
   "type": "exercise"
  },
  "papermill": {
   "default_parameters": {},
   "duration": 4.856581,
   "end_time": "2024-09-06T18:06:31.991281",
   "environment_variables": {},
   "exception": null,
   "input_path": "__notebook__.ipynb",
   "output_path": "__notebook__.ipynb",
   "parameters": {},
   "start_time": "2024-09-06T18:06:27.134700",
   "version": "2.6.0"
  }
 },
 "nbformat": 4,
 "nbformat_minor": 5
}
