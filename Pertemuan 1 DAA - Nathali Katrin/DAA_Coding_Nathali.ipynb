{
  "nbformat": 4,
  "nbformat_minor": 0,
  "metadata": {
    "colab": {
      "provenance": []
    },
    "kernelspec": {
      "name": "python3",
      "display_name": "Python 3"
    },
    "language_info": {
      "name": "python"
    }
  },
  "cells": [
    {
      "cell_type": "code",
      "execution_count": 1,
      "metadata": {
        "colab": {
          "base_uri": "https://localhost:8080/"
        },
        "id": "40xcodIAQw6D",
        "outputId": "dc2341df-d517-45af-f861-2b6eecc816a9"
      },
      "outputs": [
        {
          "output_type": "stream",
          "name": "stdout",
          "text": [
            "Masukkan bilangan pertama: 2\n",
            "Masukkan bilangan kedua: 3\n",
            "Bilangan terbesar adalah: 3.0\n"
          ]
        }
      ],
      "source": [
        "# TUGAS CODING INPUT 2 BILANGAN DAN MENAMPILKAN BILANGAN TERBESAR\n",
        "\n",
        "bilangan1 = float(input(\"Masukkan bilangan pertama: \"))\n",
        "bilangan2 = float(input(\"Masukkan bilangan kedua: \"))\n",
        "\n",
        "if bilangan1 > bilangan2:\n",
        "    print(\"Bilangan terbesar adalah:\", bilangan1)\n",
        "elif bilangan2 > bilangan1:\n",
        "    print(\"Bilangan terbesar adalah:\", bilangan2)\n",
        "else:\n",
        "    print(\"Kedua bilangan sama besar.\")"
      ]
    }
  ]
}